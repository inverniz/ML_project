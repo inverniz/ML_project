{
 "cells": [
  {
   "cell_type": "code",
   "execution_count": 6,
   "metadata": {},
   "outputs": [
    {
     "name": "stdout",
     "output_type": "stream",
     "text": [
      "The autoreload extension is already loaded. To reload it, use:\n",
      "  %reload_ext autoreload\n"
     ]
    },
    {
     "data": {
      "text/html": [
       "\n",
       "    <div class=\"bk-root\">\n",
       "        <a href=\"http://bokeh.pydata.org\" target=\"_blank\" class=\"bk-logo bk-logo-small bk-logo-notebook\"></a>\n",
       "        <span id=\"cdcab239-6c45-40dd-a904-e980dbd05356\">Loading BokehJS ...</span>\n",
       "    </div>"
      ]
     },
     "metadata": {},
     "output_type": "display_data"
    },
    {
     "data": {
      "application/javascript": [
       "\n",
       "(function(global) {\n",
       "  function now() {\n",
       "    return new Date();\n",
       "  }\n",
       "\n",
       "  var force = true;\n",
       "\n",
       "  if (typeof (window._bokeh_onload_callbacks) === \"undefined\" || force === true) {\n",
       "    window._bokeh_onload_callbacks = [];\n",
       "    window._bokeh_is_loading = undefined;\n",
       "  }\n",
       "\n",
       "\n",
       "  \n",
       "  if (typeof (window._bokeh_timeout) === \"undefined\" || force === true) {\n",
       "    window._bokeh_timeout = Date.now() + 5000;\n",
       "    window._bokeh_failed_load = false;\n",
       "  }\n",
       "\n",
       "  var NB_LOAD_WARNING = {'data': {'text/html':\n",
       "     \"<div style='background-color: #fdd'>\\n\"+\n",
       "     \"<p>\\n\"+\n",
       "     \"BokehJS does not appear to have successfully loaded. If loading BokehJS from CDN, this \\n\"+\n",
       "     \"may be due to a slow or bad network connection. Possible fixes:\\n\"+\n",
       "     \"</p>\\n\"+\n",
       "     \"<ul>\\n\"+\n",
       "     \"<li>re-rerun `output_notebook()` to attempt to load from CDN again, or</li>\\n\"+\n",
       "     \"<li>use INLINE resources instead, as so:</li>\\n\"+\n",
       "     \"</ul>\\n\"+\n",
       "     \"<code>\\n\"+\n",
       "     \"from bokeh.resources import INLINE\\n\"+\n",
       "     \"output_notebook(resources=INLINE)\\n\"+\n",
       "     \"</code>\\n\"+\n",
       "     \"</div>\"}};\n",
       "\n",
       "  function display_loaded() {\n",
       "    if (window.Bokeh !== undefined) {\n",
       "      var el = document.getElementById(\"cdcab239-6c45-40dd-a904-e980dbd05356\");\n",
       "      el.textContent = \"BokehJS \" + Bokeh.version + \" successfully loaded.\";\n",
       "    } else if (Date.now() < window._bokeh_timeout) {\n",
       "      setTimeout(display_loaded, 100)\n",
       "    }\n",
       "  }\n",
       "\n",
       "  function run_callbacks() {\n",
       "    window._bokeh_onload_callbacks.forEach(function(callback) { callback() });\n",
       "    delete window._bokeh_onload_callbacks\n",
       "    console.info(\"Bokeh: all callbacks have finished\");\n",
       "  }\n",
       "\n",
       "  function load_libs(js_urls, callback) {\n",
       "    window._bokeh_onload_callbacks.push(callback);\n",
       "    if (window._bokeh_is_loading > 0) {\n",
       "      console.log(\"Bokeh: BokehJS is being loaded, scheduling callback at\", now());\n",
       "      return null;\n",
       "    }\n",
       "    if (js_urls == null || js_urls.length === 0) {\n",
       "      run_callbacks();\n",
       "      return null;\n",
       "    }\n",
       "    console.log(\"Bokeh: BokehJS not loaded, scheduling load and callback at\", now());\n",
       "    window._bokeh_is_loading = js_urls.length;\n",
       "    for (var i = 0; i < js_urls.length; i++) {\n",
       "      var url = js_urls[i];\n",
       "      var s = document.createElement('script');\n",
       "      s.src = url;\n",
       "      s.async = false;\n",
       "      s.onreadystatechange = s.onload = function() {\n",
       "        window._bokeh_is_loading--;\n",
       "        if (window._bokeh_is_loading === 0) {\n",
       "          console.log(\"Bokeh: all BokehJS libraries loaded\");\n",
       "          run_callbacks()\n",
       "        }\n",
       "      };\n",
       "      s.onerror = function() {\n",
       "        console.warn(\"failed to load library \" + url);\n",
       "      };\n",
       "      console.log(\"Bokeh: injecting script tag for BokehJS library: \", url);\n",
       "      document.getElementsByTagName(\"head\")[0].appendChild(s);\n",
       "    }\n",
       "  };var element = document.getElementById(\"cdcab239-6c45-40dd-a904-e980dbd05356\");\n",
       "  if (element == null) {\n",
       "    console.log(\"Bokeh: ERROR: autoload.js configured with elementid 'cdcab239-6c45-40dd-a904-e980dbd05356' but no matching script tag was found. \")\n",
       "    return false;\n",
       "  }\n",
       "\n",
       "  var js_urls = [\"https://cdn.pydata.org/bokeh/release/bokeh-0.12.5.min.js\", \"https://cdn.pydata.org/bokeh/release/bokeh-widgets-0.12.5.min.js\"];\n",
       "\n",
       "  var inline_js = [\n",
       "    function(Bokeh) {\n",
       "      Bokeh.set_log_level(\"info\");\n",
       "    },\n",
       "    \n",
       "    function(Bokeh) {\n",
       "      \n",
       "    },\n",
       "    \n",
       "    function(Bokeh) {\n",
       "      \n",
       "      document.getElementById(\"cdcab239-6c45-40dd-a904-e980dbd05356\").textContent = \"BokehJS is loading...\";\n",
       "    },\n",
       "    function(Bokeh) {\n",
       "      console.log(\"Bokeh: injecting CSS: https://cdn.pydata.org/bokeh/release/bokeh-0.12.5.min.css\");\n",
       "      Bokeh.embed.inject_css(\"https://cdn.pydata.org/bokeh/release/bokeh-0.12.5.min.css\");\n",
       "      console.log(\"Bokeh: injecting CSS: https://cdn.pydata.org/bokeh/release/bokeh-widgets-0.12.5.min.css\");\n",
       "      Bokeh.embed.inject_css(\"https://cdn.pydata.org/bokeh/release/bokeh-widgets-0.12.5.min.css\");\n",
       "    }\n",
       "  ];\n",
       "\n",
       "  function run_inline_js() {\n",
       "    \n",
       "    if ((window.Bokeh !== undefined) || (force === true)) {\n",
       "      for (var i = 0; i < inline_js.length; i++) {\n",
       "        inline_js[i](window.Bokeh);\n",
       "      }if (force === true) {\n",
       "        display_loaded();\n",
       "      }} else if (Date.now() < window._bokeh_timeout) {\n",
       "      setTimeout(run_inline_js, 100);\n",
       "    } else if (!window._bokeh_failed_load) {\n",
       "      console.log(\"Bokeh: BokehJS failed to load within specified timeout.\");\n",
       "      window._bokeh_failed_load = true;\n",
       "    } else if (force !== true) {\n",
       "      var cell = $(document.getElementById(\"cdcab239-6c45-40dd-a904-e980dbd05356\")).parents('.cell').data().cell;\n",
       "      cell.output_area.append_execute_result(NB_LOAD_WARNING)\n",
       "    }\n",
       "\n",
       "  }\n",
       "\n",
       "  if (window._bokeh_is_loading === 0) {\n",
       "    console.log(\"Bokeh: BokehJS loaded, going straight to plotting\");\n",
       "    run_inline_js();\n",
       "  } else {\n",
       "    load_libs(js_urls, function() {\n",
       "      console.log(\"Bokeh: BokehJS plotting callback run at\", now());\n",
       "      run_inline_js();\n",
       "    });\n",
       "  }\n",
       "}(this));"
      ]
     },
     "metadata": {},
     "output_type": "display_data"
    }
   ],
   "source": [
    "%load_ext autoreload\n",
    "%autoreload 2\n",
    "\n",
    "import numpy as np\n",
    "import matplotlib.pyplot as plt\n",
    "%matplotlib inline\n",
    "import seaborn as sns\n",
    "\n",
    "from bokeh.plotting import figure, output_notebook,show, ColumnDataSource\n",
    "from bokeh.layouts import widgetbox\n",
    "from bokeh.models.widgets import DataTable, NumberFormatter, TableColumn\n",
    "output_notebook()\n",
    "\n",
    "from k_fold import *\n",
    "from proj1_helpers import *\n",
    "from implementations import *\n",
    "from helpers import *\n",
    "\n",
    "import warnings\n",
    "warnings.simplefilter(action='ignore', category=FutureWarning)"
   ]
  },
  {
   "cell_type": "markdown",
   "metadata": {},
   "source": [
    "# Cross-validation of the six baseline implementations"
   ]
  },
  {
   "cell_type": "code",
   "execution_count": 7,
   "metadata": {},
   "outputs": [],
   "source": [
    "y, x, ids = load_csv_data('data/train.csv')\n",
    "labels = np.array(np.genfromtxt('data/train.csv', delimiter=\",\", names=True).dtype.names[2:])"
   ]
  },
  {
   "cell_type": "code",
   "execution_count": 8,
   "metadata": {
    "collapsed": true
   },
   "outputs": [],
   "source": [
    "def cross_validation_visualization(lambds, mse_tr, mse_te, xlabel, ylabel, title):\n",
    "    \"\"\"visualization the curves of mse_tr and mse_te.\"\"\"\n",
    "    fig = plt.figure()\n",
    "    plt.semilogx(lambds, mse_tr, marker=\".\", color='b', label='train error')\n",
    "    plt.semilogx(lambds, mse_te, marker=\".\", color='r', label='test error')\n",
    "    plt.xlabel(xlabel)\n",
    "    plt.ylabel(ylabel)\n",
    "    plt.title(title)\n",
    "    plt.legend(loc=2)\n",
    "    plt.grid(True)\n",
    "    fig.savefig(title, bbox_inches='tight')"
   ]
  },
  {
   "cell_type": "markdown",
   "metadata": {},
   "source": [
    "# cross-validation for least squares with gradient descent"
   ]
  },
  {
   "cell_type": "code",
   "execution_count": 9,
   "metadata": {},
   "outputs": [
    {
     "data": {
      "image/png": "[encoded data removed]",
      "text/plain": [
       "<matplotlib.figure.Figure at 0x136f3e128>"
      ]
     },
     "metadata": {},
     "output_type": "display_data"
    }
   ],
   "source": [
    "gammas = np.logspace(-3,-1.0,10)\n",
    "mse_tr = []\n",
    "mse_te = []\n",
    "y_scaled = (y+1)/2.0\n",
    "for gamma in gammas:\n",
    "    mse_tr_, mse_te_ = cross_validation(y_scaled, x, 5, least_squares_GD, accuracy, {'initial_w' : np.zeros(x.shape[1] + 1), 'max_iters':500, 'gamma':gamma})\n",
    "    mse_tr.append(mse_tr_)\n",
    "    mse_te.append(mse_te_)\n",
    "cross_validation_visualization(gammas, mse_tr, mse_te, \"gamma\", \"inaccuracy\", \"cross-validation for least squares with gradient descent\")"
   ]
  },
  {
   "cell_type": "markdown",
   "metadata": {},
   "source": [
    "# cross-validation for least squares with stochastic gradient descent"
   ]
  },
  {
   "cell_type": "code",
   "execution_count": 10,
   "metadata": {},
   "outputs": [
    {
     "name": "stderr",
     "output_type": "stream",
     "text": [
      "/Users/Hakim/Documents/ML_project/scripts/helpers.py:66: RuntimeWarning: invalid value encountered in less_equal\n",
      "  res[res <= 0] = -1\n",
      "/Users/Hakim/Documents/ML_project/scripts/helpers.py:67: RuntimeWarning: invalid value encountered in greater\n",
      "  res[res > 0]  = 1\n",
      "/Users/Hakim/Documents/ML_project/scripts/implementations.py:29: RuntimeWarning: invalid value encountered in subtract\n",
      "  w = w - gamma * gradient\n"
     ]
    },
    {
     "data": {
      "image/png": "[encoded data removed]",
      "text/plain": [
       "<matplotlib.figure.Figure at 0x12371a5f8>"
      ]
     },
     "metadata": {},
     "output_type": "display_data"
    }
   ],
   "source": [
    "gammas = np.logspace(2,5,5)\n",
    "mse_tr = []\n",
    "mse_te = []\n",
    "for gamma in gammas:\n",
    "    mse_tr_, mse_te_ = cross_validation(y, x, 10, least_squares_SGD, accuracy, {'initial_w' : np.zeros(x.shape[1]  + 1), 'max_iters':10000, 'gamma':gamma})\n",
    "    mse_tr.append(mse_tr_)\n",
    "    mse_te.append(mse_te_)\n",
    "cross_validation_visualization(gammas, mse_tr, mse_te, \"gamma\", \"inaccuracy\", \"cross-validation for least squares with stochastic gradient descent\")"
   ]
  },
  {
   "cell_type": "markdown",
   "metadata": {},
   "source": [
    "# cross-validation for least squares with normal equation"
   ]
  },
  {
   "cell_type": "code",
   "execution_count": 11,
   "metadata": {},
   "outputs": [
    {
     "name": "stdout",
     "output_type": "stream",
     "text": [
      "0.255083 0.255132\n"
     ]
    }
   ],
   "source": [
    "rmse_tr_, rmse_te_ = cross_validation(y, x, 5, least_squares, accuracy, seed=5)\n",
    "print(rmse_tr_, rmse_te_)"
   ]
  },
  {
   "cell_type": "markdown",
   "metadata": {},
   "source": [
    "# cross-validation for ridge regression"
   ]
  },
  {
   "cell_type": "code",
   "execution_count": 12,
   "metadata": {},
   "outputs": [
    {
     "data": {
      "image/png": "[encoded data removed]",
      "text/plain": [
       "<matplotlib.figure.Figure at 0x11dbdee10>"
      ]
     },
     "metadata": {},
     "output_type": "display_data"
    }
   ],
   "source": [
    "lambdas = np.logspace(-8,-7,10)\n",
    "rmse_tr = []\n",
    "rmse_te = []\n",
    "for lambda_ in lambdas:\n",
    "    rmse_tr_, rmse_te_ = cross_validation(y, x, 10, ridge_regression, accuracy, {'lambda_': lambda_}, seed=5)\n",
    "    rmse_tr.append(rmse_tr_)\n",
    "    rmse_te.append(rmse_te_)\n",
    "cross_validation_visualization(lambdas, rmse_tr, rmse_te, \"lambda\", \"inaccuracy\", \"cross validation for ridge regression\")"
   ]
  },
  {
   "cell_type": "markdown",
   "metadata": {},
   "source": [
    "# cross-validation for logistic regression"
   ]
  },
  {
   "cell_type": "code",
   "execution_count": 15,
   "metadata": {},
   "outputs": [
    {
     "name": "stderr",
     "output_type": "stream",
     "text": [
      "/Users/Hakim/Documents/ML_project/scripts/helpers.py:35: RuntimeWarning: divide by zero encountered in log\n",
      "  loss = np.sum(y.T @ np.log(sigma_xn_w) + (1-y).T @ np.log(1-sigma_xn_w))\n"
     ]
    },
    {
     "data": {
      "image/png": "[encoded data removed]",
      "text/plain": [
       "<matplotlib.figure.Figure at 0x1431df390>"
      ]
     },
     "metadata": {},
     "output_type": "display_data"
    }
   ],
   "source": [
    "lambdas = np.logspace(-10,-1,10)\n",
    "rmse_tr = []\n",
    "rmse_te = []\n",
    "y_scaled = (y+1)/2.0\n",
    "for lambda_ in lambdas:\n",
    "    rmse_tr_, rmse_te_ = cross_validation(y_scaled, x, 5, logistic_regression, accuracy, {'initial_w': np.zeros(x.shape[1] + 1), 'max_iters': 10000, 'gamma': lambda_})\n",
    "    rmse_tr.append(rmse_tr_)\n",
    "    rmse_te.append(rmse_te_)\n",
    "cross_validation_visualization(lambdas, rmse_tr, rmse_te, \"lambda\", \"inaccuracy\", \"cross-validation for logistic regression\")"
   ]
  },
  {
   "cell_type": "markdown",
   "metadata": {},
   "source": [
    "# cross-validation for regularized logistic regression"
   ]
  },
  {
   "cell_type": "code",
   "execution_count": 17,
   "metadata": {},
   "outputs": [
    {
     "data": {
      "image/png": "[encoded data removed]",
      "text/plain": [
       "<matplotlib.figure.Figure at 0x11c92a6a0>"
      ]
     },
     "metadata": {},
     "output_type": "display_data"
    }
   ],
   "source": [
    "lambdas = np.logspace(-10,-1,5)\n",
    "rmse_tr = []\n",
    "rmse_te = []\n",
    "for lambda_ in lambdas:\n",
    "    rmse_tr_, rmse_te_ = cross_validation(y, x, 5, reg_logistic_regression, accuracy, {'lambda_': lambda_,'initial_w': np.zeros(x.shape[1]+1), 'max_iters': 10000, 'gamma': 0.001})\n",
    "    rmse_tr.append(rmse_tr_)\n",
    "    rmse_te.append(rmse_te_)\n",
    "\n",
    "cross_validation_visualization(lambdas, rmse_tr, rmse_te, \"lambda\", \"inaccuracy\", \"cross-validation for regularized logistic regression\")"
   ]
  },
  {
   "cell_type": "markdown",
   "metadata": {},
   "source": [
    "# Customized model"
   ]
  },
  {
   "cell_type": "markdown",
   "metadata": {},
   "source": [
    "Our model divides the training dataset in six groups based on the observation made during the exploratory data analysis. Our model makes use of Ridge Regression."
   ]
  },
  {
   "cell_type": "markdown",
   "metadata": {},
   "source": [
    "Function to divide the training dataset in six groups."
   ]
  },
  {
   "cell_type": "code",
   "execution_count": 18,
   "metadata": {
    "collapsed": true
   },
   "outputs": [],
   "source": [
    "def x_y_for_jet(x, y, n, mass=True):\n",
    "    jet_num = x[:, 22] == n\n",
    "    if n == 2:\n",
    "        jet_num = jet_num | (x[:, 22] == 3)\n",
    "    if mass:\n",
    "        jet_num = jet_num & (x[:, 0] != -999)\n",
    "    else:\n",
    "        jet_num = jet_num & (x[:, 0] == -999)\n",
    "    x_jet = x[jet_num]\n",
    "    y_jet = y[jet_num]\n",
    "    jet_mean = np.mean(x_jet, axis=0)\n",
    "    x_jet = x_jet[:, (jet_mean != -999) & (jet_mean != 0) & (jet_mean != n)]\n",
    "    return x_jet, y_jet"
   ]
  },
  {
   "cell_type": "markdown",
   "metadata": {},
   "source": [
    "# tuning the model: group0"
   ]
  },
  {
   "cell_type": "code",
   "execution_count": null,
   "metadata": {
    "collapsed": true
   },
   "outputs": [],
   "source": [
    "lambdas = np.logspace(-10,0,30)\n",
    "x_jet, y_jet = x_y_for_jet(x,y, 0, False)\n",
    "rmse_tr = []\n",
    "rmse_te = []\n",
    "for lambda_ in lambdas:\n",
    "    rmse_tr_, rmse_te_ = cross_validation(y_jet, x_jet, 10, ridge_regression, accuracy, {'lambda_': lambda_}, seed=5)\n",
    "    rmse_tr.append(rmse_tr_)\n",
    "    rmse_te.append(rmse_te_)\n",
    "cross_validation_visualization(lambdas, rmse_tr, rmse_te)"
   ]
  },
  {
   "cell_type": "code",
   "execution_count": null,
   "metadata": {
    "collapsed": true
   },
   "outputs": [],
   "source": [
    "lambdas = np.logspace(-10,0,10)\n",
    "x_jet, y_jet = x_y_for_jet(x,y, 0, False)\n",
    "rmse_tr = []\n",
    "rmse_te = []\n",
    "degree = 5\n",
    "for lambda_ in lambdas:\n",
    "    rmse_tr_, rmse_te_ = cross_validation(y_jet, x_jet, 10, ridge_regression_with_poly, accuracy_with_poly, {'lambda_': lambda_, 'degree': degree}, {'degree': degree},  seed=5)\n",
    "    rmse_tr.append(rmse_tr_)\n",
    "    rmse_te.append(rmse_te_)\n",
    "cross_validation_visualization(lambdas, rmse_tr, rmse_te)"
   ]
  },
  {
   "cell_type": "code",
   "execution_count": null,
   "metadata": {
    "collapsed": true
   },
   "outputs": [],
   "source": [
    "print(np.min(rmse_te))\n",
    "print(lambdas[np.argmin(rmse_te)])"
   ]
  },
  {
   "cell_type": "markdown",
   "metadata": {},
   "source": [
    "# tuning the model: group1"
   ]
  },
  {
   "cell_type": "code",
   "execution_count": null,
   "metadata": {
    "collapsed": true
   },
   "outputs": [],
   "source": [
    "lambdas = np.logspace(-10,0,30)\n",
    "x_jet, y_jet = x_y_for_jet(x,y, 0, True)\n",
    "rmse_tr = []\n",
    "rmse_te = []\n",
    "for lambda_ in lambdas:\n",
    "    rmse_tr_, rmse_te_ = cross_validation(y_jet, x_jet, 10, ridge_regression, accuracy, {'lambda_': lambda_}, seed=5)\n",
    "    rmse_tr.append(rmse_tr_)\n",
    "    rmse_te.append(rmse_te_)\n",
    "cross_validation_visualization(lambdas, rmse_tr, rmse_te)"
   ]
  },
  {
   "cell_type": "code",
   "execution_count": null,
   "metadata": {
    "collapsed": true
   },
   "outputs": [],
   "source": [
    "lambdas = np.logspace(-10,0,5)\n",
    "x_jet, y_jet = x_y_for_jet(x,y, 0, True)\n",
    "rmse_tr = []\n",
    "rmse_te = []\n",
    "degree = 4\n",
    "for lambda_ in lambdas:\n",
    "    rmse_tr_, rmse_te_ = cross_validation(y_jet, x_jet, 10, ridge_regression_with_poly, accuracy_with_poly, {'lambda_': lambda_, 'degree': degree}, {'degree': degree},  seed=5)\n",
    "    rmse_tr.append(rmse_tr_)\n",
    "    rmse_te.append(rmse_te_)\n",
    "cross_validation_visualization(lambdas, rmse_tr, rmse_te)"
   ]
  },
  {
   "cell_type": "code",
   "execution_count": null,
   "metadata": {
    "collapsed": true
   },
   "outputs": [],
   "source": [
    "print(np.min(rmse_te))\n",
    "print(lambdas[np.argmin(rmse_te)])"
   ]
  },
  {
   "cell_type": "markdown",
   "metadata": {},
   "source": [
    "# tuning the model: group2"
   ]
  },
  {
   "cell_type": "code",
   "execution_count": null,
   "metadata": {
    "collapsed": true
   },
   "outputs": [],
   "source": [
    "lambdas = np.logspace(-10,0,30)\n",
    "x_jet, y_jet = x_y_for_jet(x,y, 1, True)\n",
    "rmse_tr = []\n",
    "rmse_te = []\n",
    "for lambda_ in lambdas:\n",
    "    rmse_tr_, rmse_te_ = cross_validation(y_jet, x_jet, 10, ridge_regression, accuracy, {'lambda_': lambda_}, seed=5)\n",
    "    rmse_tr.append(rmse_tr_)\n",
    "    rmse_te.append(rmse_te_)\n",
    "cross_validation_visualization(lambdas, rmse_tr, rmse_te)"
   ]
  },
  {
   "cell_type": "code",
   "execution_count": null,
   "metadata": {
    "collapsed": true
   },
   "outputs": [],
   "source": [
    "lambdas = np.logspace(-10,0,10)\n",
    "x_jet, y_jet = x_y_for_jet(x,y, 1, True)\n",
    "rmse_tr = []\n",
    "rmse_te = []\n",
    "degree = 6\n",
    "for lambda_ in lambdas:\n",
    "    rmse_tr_, rmse_te_ = cross_validation(y_jet, x_jet, 10, ridge_regression_with_poly, accuracy_with_poly, {'lambda_': lambda_, 'degree': degree}, {'degree': degree},  seed=5)\n",
    "    rmse_tr.append(rmse_tr_)\n",
    "    rmse_te.append(rmse_te_)\n",
    "cross_validation_visualization(lambdas, rmse_tr, rmse_te)"
   ]
  },
  {
   "cell_type": "code",
   "execution_count": null,
   "metadata": {
    "collapsed": true
   },
   "outputs": [],
   "source": [
    "print(np.min(rmse_te))\n",
    "print(lambdas[np.argmin(rmse_te)])"
   ]
  },
  {
   "cell_type": "markdown",
   "metadata": {},
   "source": [
    "# tuning the model: group3"
   ]
  },
  {
   "cell_type": "code",
   "execution_count": null,
   "metadata": {
    "collapsed": true
   },
   "outputs": [],
   "source": [
    "lambdas = np.logspace(-10,0,30)\n",
    "x_jet, y_jet = x_y_for_jet(x,y, 1, False)\n",
    "rmse_tr = []\n",
    "rmse_te = []\n",
    "for lambda_ in lambdas:\n",
    "    rmse_tr_, rmse_te_ = cross_validation(y_jet, x_jet, 10, ridge_regression, accuracy, {'lambda_': lambda_}, seed=5)\n",
    "    rmse_tr.append(rmse_tr_)\n",
    "    rmse_te.append(rmse_te_)\n",
    "cross_validation_visualization(lambdas, rmse_tr, rmse_te)"
   ]
  },
  {
   "cell_type": "code",
   "execution_count": null,
   "metadata": {
    "collapsed": true
   },
   "outputs": [],
   "source": [
    "lambdas = np.logspace(-10,0,10)\n",
    "x_jet, y_jet = x_y_for_jet(x,y, 1, False)\n",
    "rmse_tr = []\n",
    "rmse_te = []\n",
    "degree = 5\n",
    "for lambda_ in lambdas:\n",
    "    rmse_tr_, rmse_te_ = cross_validation(y_jet, x_jet, 10, ridge_regression_with_poly, accuracy_with_poly, {'lambda_': lambda_, 'degree': degree}, {'degree': degree},  seed=5)\n",
    "    rmse_tr.append(rmse_tr_)\n",
    "    rmse_te.append(rmse_te_)\n",
    "cross_validation_visualization(lambdas, rmse_tr, rmse_te)"
   ]
  },
  {
   "cell_type": "code",
   "execution_count": null,
   "metadata": {
    "collapsed": true
   },
   "outputs": [],
   "source": [
    "print(np.min(rmse_te))\n",
    "print(lambdas[np.argmin(rmse_te)])"
   ]
  },
  {
   "cell_type": "markdown",
   "metadata": {},
   "source": [
    "# tuning the model: group4"
   ]
  },
  {
   "cell_type": "code",
   "execution_count": null,
   "metadata": {
    "collapsed": true
   },
   "outputs": [],
   "source": [
    "lambdas = np.logspace(-10,0,30)\n",
    "x_jet, y_jet = x_y_for_jet(x,y, 2, True)\n",
    "rmse_tr = []\n",
    "rmse_te = []\n",
    "for lambda_ in lambdas:\n",
    "    rmse_tr_, rmse_te_ = cross_validation(y_jet, x_jet, 10, ridge_regression, accuracy, {'lambda_': lambda_}, seed=5)\n",
    "    rmse_tr.append(rmse_tr_)\n",
    "    rmse_te.append(rmse_te_)\n",
    "cross_validation_visualization(lambdas, rmse_tr, rmse_te)"
   ]
  },
  {
   "cell_type": "code",
   "execution_count": null,
   "metadata": {
    "collapsed": true
   },
   "outputs": [],
   "source": [
    "lambdas = np.logspace(-10,0,10)\n",
    "x_jet, y_jet = x_y_for_jet(x,y, 2, True)\n",
    "rmse_tr = []\n",
    "rmse_te = []\n",
    "degree = 7\n",
    "for lambda_ in lambdas:\n",
    "    rmse_tr_, rmse_te_ = cross_validation(y_jet, x_jet, 10, ridge_regression_with_poly, accuracy_with_poly, {'lambda_': lambda_, 'degree': degree}, {'degree': degree},  seed=5)\n",
    "    rmse_tr.append(rmse_tr_)\n",
    "    rmse_te.append(rmse_te_)\n",
    "cross_validation_visualization(lambdas, rmse_tr, rmse_te)"
   ]
  },
  {
   "cell_type": "code",
   "execution_count": null,
   "metadata": {
    "collapsed": true
   },
   "outputs": [],
   "source": [
    "print(np.min(rmse_te))\n",
    "print(lambdas[np.argmin(rmse_te)])"
   ]
  },
  {
   "cell_type": "markdown",
   "metadata": {},
   "source": [
    "# tuning the model: group5"
   ]
  },
  {
   "cell_type": "code",
   "execution_count": null,
   "metadata": {
    "collapsed": true
   },
   "outputs": [],
   "source": [
    "lambdas = np.logspace(-10,0,30)\n",
    "x_jet, y_jet = x_y_for_jet(x,y, 2, False)\n",
    "rmse_tr = []\n",
    "rmse_te = []\n",
    "for lambda_ in lambdas:\n",
    "    rmse_tr_, rmse_te_ = cross_validation(y_jet, x_jet, 10, ridge_regression, accuracy, {'lambda_': lambda_}, seed=5)\n",
    "    rmse_tr.append(rmse_tr_)\n",
    "    rmse_te.append(rmse_te_)\n",
    "cross_validation_visualization(lambdas, rmse_tr, rmse_te)"
   ]
  },
  {
   "cell_type": "code",
   "execution_count": null,
   "metadata": {
    "collapsed": true
   },
   "outputs": [],
   "source": [
    "lambdas = np.logspace(-10,0,10)\n",
    "x_jet, y_jet = x_y_for_jet(x,y, 2, False)\n",
    "rmse_tr = []\n",
    "rmse_te = []\n",
    "degree = 3\n",
    "for lambda_ in lambdas:\n",
    "    rmse_tr_, rmse_te_ = cross_validation(y_jet, x_jet, 10, ridge_regression_with_poly, accuracy_with_poly, {'lambda_': lambda_, 'degree': degree}, {'degree': degree},  seed=5)\n",
    "    rmse_tr.append(rmse_tr_)\n",
    "    rmse_te.append(rmse_te_)\n",
    "cross_validation_visualization(lambdas, rmse_tr, rmse_te)"
   ]
  },
  {
   "cell_type": "code",
   "execution_count": null,
   "metadata": {
    "collapsed": true
   },
   "outputs": [],
   "source": [
    "print(np.min(rmse_te))\n",
    "print(lambdas[np.argmin(rmse_te)])"
   ]
  },
  {
   "cell_type": "markdown",
   "metadata": {},
   "source": [
    "# tuning the whole model"
   ]
  },
  {
   "cell_type": "code",
   "execution_count": null,
   "metadata": {
    "collapsed": true
   },
   "outputs": [],
   "source": [
    "lambdas = np.logspace(-5,0,10)\n",
    "degree = 6\n",
    "for n in range(3):\n",
    "    for mass in [True, False]:\n",
    "        x_jet, y_jet = x_y_for_jet(x, y, n, mass)\n",
    "        plt.figure(n*2+int(mass))\n",
    "        rmse_tr = []\n",
    "        rmse_te = []\n",
    "        for lambda_ in lambdas:\n",
    "            rmse_tr_, rmse_te_ = cross_validation(y_jet, x_jet, 10, ridge_regression, compute_mse, {'lambda_': lambda_}, seed=5)\n",
    "            rmse_tr.append(rmse_tr_)\n",
    "            rmse_te.append(rmse_te_)\n",
    "        cross_validation_visualization(lambdas, rmse_tr, rmse_te)\n",
    "        plt.plot()\n",
    "        i += 1"
   ]
  }
 ],
 "metadata": {
  "kernelspec": {
   "display_name": "Python [default]",
   "language": "python",
   "name": "python3"
  },
  "language_info": {
   "codemirror_mode": {
    "name": "ipython",
    "version": 3
   },
   "file_extension": ".py",
   "mimetype": "text/x-python",
   "name": "python",
   "nbconvert_exporter": "python",
   "pygments_lexer": "ipython3",
   "version": "3.5.3"
  }
 },
 "nbformat": 4,
 "nbformat_minor": 2
}
