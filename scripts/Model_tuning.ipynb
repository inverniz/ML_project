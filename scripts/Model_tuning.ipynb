{
 "cells": [
  {
   "cell_type": "code",
   "execution_count": 6,
   "metadata": {},
   "outputs": [
    {
     "name": "stdout",
     "output_type": "stream",
     "text": [
      "The autoreload extension is already loaded. To reload it, use:\n",
      "  %reload_ext autoreload\n"
     ]
    },
    {
     "data": {
      "text/html": [
       "\n",
       "    <div class=\"bk-root\">\n",
       "        <a href=\"http://bokeh.pydata.org\" target=\"_blank\" class=\"bk-logo bk-logo-small bk-logo-notebook\"></a>\n",
       "        <span id=\"cdcab239-6c45-40dd-a904-e980dbd05356\">Loading BokehJS ...</span>\n",
       "    </div>"
      ]
     },
     "metadata": {},
     "output_type": "display_data"
    },
    {
     "data": {
      "application/javascript": [
       "\n",
       "(function(global) {\n",
       "  function now() {\n",
       "    return new Date();\n",
       "  }\n",
       "\n",
       "  var force = true;\n",
       "\n",
       "  if (typeof (window._bokeh_onload_callbacks) === \"undefined\" || force === true) {\n",
       "    window._bokeh_onload_callbacks = [];\n",
       "    window._bokeh_is_loading = undefined;\n",
       "  }\n",
       "\n",
       "\n",
       "  \n",
       "  if (typeof (window._bokeh_timeout) === \"undefined\" || force === true) {\n",
       "    window._bokeh_timeout = Date.now() + 5000;\n",
       "    window._bokeh_failed_load = false;\n",
       "  }\n",
       "\n",
       "  var NB_LOAD_WARNING = {'data': {'text/html':\n",
       "     \"<div style='background-color: #fdd'>\\n\"+\n",
       "     \"<p>\\n\"+\n",
       "     \"BokehJS does not appear to have successfully loaded. If loading BokehJS from CDN, this \\n\"+\n",
       "     \"may be due to a slow or bad network connection. Possible fixes:\\n\"+\n",
       "     \"</p>\\n\"+\n",
       "     \"<ul>\\n\"+\n",
       "     \"<li>re-rerun `output_notebook()` to attempt to load from CDN again, or</li>\\n\"+\n",
       "     \"<li>use INLINE resources instead, as so:</li>\\n\"+\n",
       "     \"</ul>\\n\"+\n",
       "     \"<code>\\n\"+\n",
       "     \"from bokeh.resources import INLINE\\n\"+\n",
       "     \"output_notebook(resources=INLINE)\\n\"+\n",
       "     \"</code>\\n\"+\n",
       "     \"</div>\"}};\n",
       "\n",
       "  function display_loaded() {\n",
       "    if (window.Bokeh !== undefined) {\n",
       "      var el = document.getElementById(\"cdcab239-6c45-40dd-a904-e980dbd05356\");\n",
       "      el.textContent = \"BokehJS \" + Bokeh.version + \" successfully loaded.\";\n",
       "    } else if (Date.now() < window._bokeh_timeout) {\n",
       "      setTimeout(display_loaded, 100)\n",
       "    }\n",
       "  }\n",
       "\n",
       "  function run_callbacks() {\n",
       "    window._bokeh_onload_callbacks.forEach(function(callback) { callback() });\n",
       "    delete window._bokeh_onload_callbacks\n",
       "    console.info(\"Bokeh: all callbacks have finished\");\n",
       "  }\n",
       "\n",
       "  function load_libs(js_urls, callback) {\n",
       "    window._bokeh_onload_callbacks.push(callback);\n",
       "    if (window._bokeh_is_loading > 0) {\n",
       "      console.log(\"Bokeh: BokehJS is being loaded, scheduling callback at\", now());\n",
       "      return null;\n",
       "    }\n",
       "    if (js_urls == null || js_urls.length === 0) {\n",
       "      run_callbacks();\n",
       "      return null;\n",
       "    }\n",
       "    console.log(\"Bokeh: BokehJS not loaded, scheduling load and callback at\", now());\n",
       "    window._bokeh_is_loading = js_urls.length;\n",
       "    for (var i = 0; i < js_urls.length; i++) {\n",
       "      var url = js_urls[i];\n",
       "      var s = document.createElement('script');\n",
       "      s.src = url;\n",
       "      s.async = false;\n",
       "      s.onreadystatechange = s.onload = function() {\n",
       "        window._bokeh_is_loading--;\n",
       "        if (window._bokeh_is_loading === 0) {\n",
       "          console.log(\"Bokeh: all BokehJS libraries loaded\");\n",
       "          run_callbacks()\n",
       "        }\n",
       "      };\n",
       "      s.onerror = function() {\n",
       "        console.warn(\"failed to load library \" + url);\n",
       "      };\n",
       "      console.log(\"Bokeh: injecting script tag for BokehJS library: \", url);\n",
       "      document.getElementsByTagName(\"head\")[0].appendChild(s);\n",
       "    }\n",
       "  };var element = document.getElementById(\"cdcab239-6c45-40dd-a904-e980dbd05356\");\n",
       "  if (element == null) {\n",
       "    console.log(\"Bokeh: ERROR: autoload.js configured with elementid 'cdcab239-6c45-40dd-a904-e980dbd05356' but no matching script tag was found. \")\n",
       "    return false;\n",
       "  }\n",
       "\n",
       "  var js_urls = [\"https://cdn.pydata.org/bokeh/release/bokeh-0.12.5.min.js\", \"https://cdn.pydata.org/bokeh/release/bokeh-widgets-0.12.5.min.js\"];\n",
       "\n",
       "  var inline_js = [\n",
       "    function(Bokeh) {\n",
       "      Bokeh.set_log_level(\"info\");\n",
       "    },\n",
       "    \n",
       "    function(Bokeh) {\n",
       "      \n",
       "    },\n",
       "    \n",
       "    function(Bokeh) {\n",
       "      \n",
       "      document.getElementById(\"cdcab239-6c45-40dd-a904-e980dbd05356\").textContent = \"BokehJS is loading...\";\n",
       "    },\n",
       "    function(Bokeh) {\n",
       "      console.log(\"Bokeh: injecting CSS: https://cdn.pydata.org/bokeh/release/bokeh-0.12.5.min.css\");\n",
       "      Bokeh.embed.inject_css(\"https://cdn.pydata.org/bokeh/release/bokeh-0.12.5.min.css\");\n",
       "      console.log(\"Bokeh: injecting CSS: https://cdn.pydata.org/bokeh/release/bokeh-widgets-0.12.5.min.css\");\n",
       "      Bokeh.embed.inject_css(\"https://cdn.pydata.org/bokeh/release/bokeh-widgets-0.12.5.min.css\");\n",
       "    }\n",
       "  ];\n",
       "\n",
       "  function run_inline_js() {\n",
       "    \n",
       "    if ((window.Bokeh !== undefined) || (force === true)) {\n",
       "      for (var i = 0; i < inline_js.length; i++) {\n",
       "        inline_js[i](window.Bokeh);\n",
       "      }if (force === true) {\n",
       "        display_loaded();\n",
       "      }} else if (Date.now() < window._bokeh_timeout) {\n",
       "      setTimeout(run_inline_js, 100);\n",
       "    } else if (!window._bokeh_failed_load) {\n",
       "      console.log(\"Bokeh: BokehJS failed to load within specified timeout.\");\n",
       "      window._bokeh_failed_load = true;\n",
       "    } else if (force !== true) {\n",
       "      var cell = $(document.getElementById(\"cdcab239-6c45-40dd-a904-e980dbd05356\")).parents('.cell').data().cell;\n",
       "      cell.output_area.append_execute_result(NB_LOAD_WARNING)\n",
       "    }\n",
       "\n",
       "  }\n",
       "\n",
       "  if (window._bokeh_is_loading === 0) {\n",
       "    console.log(\"Bokeh: BokehJS loaded, going straight to plotting\");\n",
       "    run_inline_js();\n",
       "  } else {\n",
       "    load_libs(js_urls, function() {\n",
       "      console.log(\"Bokeh: BokehJS plotting callback run at\", now());\n",
       "      run_inline_js();\n",
       "    });\n",
       "  }\n",
       "}(this));"
      ]
     },
     "metadata": {},
     "output_type": "display_data"
    }
   ],
   "source": [
    "%load_ext autoreload\n",
    "%autoreload 2\n",
    "\n",
    "import numpy as np\n",
    "import matplotlib.pyplot as plt\n",
    "%matplotlib inline\n",
    "import seaborn as sns\n",
    "\n",
    "from bokeh.plotting import figure, output_notebook,show, ColumnDataSource\n",
    "from bokeh.layouts import widgetbox\n",
    "from bokeh.models.widgets import DataTable, NumberFormatter, TableColumn\n",
    "output_notebook()\n",
    "\n",
    "from k_fold import *\n",
    "from proj1_helpers import *\n",
    "from implementations import *\n",
    "from helpers import *\n",
    "\n",
    "import warnings\n",
    "warnings.simplefilter(action='ignore', category=FutureWarning)"
   ]
  },
  {
   "cell_type": "code",
   "execution_count": 7,
   "metadata": {
    "collapsed": true
   },
   "outputs": [],
   "source": [
    "y, x, ids = load_csv_data('data/train.csv')\n",
    "labels = np.array(np.genfromtxt('data/train.csv', delimiter=\",\", names=True).dtype.names[2:])"
   ]
  },
  {
   "cell_type": "markdown",
   "metadata": {},
   "source": [
    "# Customized model"
   ]
  },
  {
   "cell_type": "markdown",
   "metadata": {},
   "source": [
    "Our model divides the training dataset in six groups based on the observation made during the exploratory data analysis. \n",
    "\n",
    "Our model makes use of Ridge Regression and we compare normal and polynomial basis-enhanced Ridge Regression."
   ]
  },
  {
   "cell_type": "markdown",
   "metadata": {},
   "source": [
    "Function to divide the training dataset in six groups."
   ]
  },
  {
   "cell_type": "code",
   "execution_count": 18,
   "metadata": {
    "collapsed": true
   },
   "outputs": [],
   "source": [
    "def x_y_for_jet(x, y, n, mass=True):\n",
    "    jet_num = x[:, 22] == n\n",
    "    if n == 2:\n",
    "        jet_num = jet_num | (x[:, 22] == 3)\n",
    "    if mass:\n",
    "        jet_num = jet_num & (x[:, 0] != -999)\n",
    "    else:\n",
    "        jet_num = jet_num & (x[:, 0] == -999)\n",
    "    x_jet = x[jet_num]\n",
    "    y_jet = y[jet_num]\n",
    "    jet_mean = np.mean(x_jet, axis=0)\n",
    "    x_jet = x_jet[:, (jet_mean != -999) & (jet_mean != 0) & (jet_mean != n)]\n",
    "    return x_jet, y_jet"
   ]
  },
  {
   "cell_type": "markdown",
   "metadata": {},
   "source": [
    "# tuning the model: group0"
   ]
  },
  {
   "cell_type": "code",
   "execution_count": null,
   "metadata": {
    "collapsed": true
   },
   "outputs": [],
   "source": [
    "lambdas = np.logspace(-10,0,30)\n",
    "x_jet, y_jet = x_y_for_jet(x,y, 0, False)\n",
    "rmse_tr = []\n",
    "rmse_te = []\n",
    "for lambda_ in lambdas:\n",
    "    rmse_tr_, rmse_te_ = cross_validation(y_jet, x_jet, 10, ridge_regression, accuracy, {'lambda_': lambda_}, seed=5)\n",
    "    rmse_tr.append(rmse_tr_)\n",
    "    rmse_te.append(rmse_te_)\n",
    "cross_validation_visualization(lambdas, rmse_tr, rmse_te)"
   ]
  },
  {
   "cell_type": "markdown",
   "metadata": {},
   "source": [
    "version with polynomially enhanced input."
   ]
  },
  {
   "cell_type": "code",
   "execution_count": null,
   "metadata": {
    "collapsed": true
   },
   "outputs": [],
   "source": [
    "lambdas = np.logspace(-10,0,10)\n",
    "x_jet, y_jet = x_y_for_jet(x,y, 0, False)\n",
    "rmse_tr = []\n",
    "rmse_te = []\n",
    "degree = 5\n",
    "for lambda_ in lambdas:\n",
    "    rmse_tr_, rmse_te_ = cross_validation(y_jet, x_jet, 10, ridge_regression_with_poly, accuracy_with_poly, {'lambda_': lambda_, 'degree': degree}, {'degree': degree},  seed=5)\n",
    "    rmse_tr.append(rmse_tr_)\n",
    "    rmse_te.append(rmse_te_)\n",
    "cross_validation_visualization(lambdas, rmse_tr, rmse_te)"
   ]
  },
  {
   "cell_type": "code",
   "execution_count": null,
   "metadata": {
    "collapsed": true
   },
   "outputs": [],
   "source": [
    "print(np.min(rmse_te))\n",
    "print(lambdas[np.argmin(rmse_te)])"
   ]
  },
  {
   "cell_type": "markdown",
   "metadata": {},
   "source": [
    "# tuning the model: group1"
   ]
  },
  {
   "cell_type": "code",
   "execution_count": null,
   "metadata": {
    "collapsed": true
   },
   "outputs": [],
   "source": [
    "lambdas = np.logspace(-10,0,30)\n",
    "x_jet, y_jet = x_y_for_jet(x,y, 0, True)\n",
    "rmse_tr = []\n",
    "rmse_te = []\n",
    "for lambda_ in lambdas:\n",
    "    rmse_tr_, rmse_te_ = cross_validation(y_jet, x_jet, 10, ridge_regression, accuracy, {'lambda_': lambda_}, seed=5)\n",
    "    rmse_tr.append(rmse_tr_)\n",
    "    rmse_te.append(rmse_te_)\n",
    "cross_validation_visualization(lambdas, rmse_tr, rmse_te)"
   ]
  },
  {
   "cell_type": "markdown",
   "metadata": {},
   "source": [
    "version with polynomially enhanced input."
   ]
  },
  {
   "cell_type": "code",
   "execution_count": null,
   "metadata": {
    "collapsed": true
   },
   "outputs": [],
   "source": [
    "lambdas = np.logspace(-10,0,5)\n",
    "x_jet, y_jet = x_y_for_jet(x,y, 0, True)\n",
    "rmse_tr = []\n",
    "rmse_te = []\n",
    "degree = 4\n",
    "for lambda_ in lambdas:\n",
    "    rmse_tr_, rmse_te_ = cross_validation(y_jet, x_jet, 10, ridge_regression_with_poly, accuracy_with_poly, {'lambda_': lambda_, 'degree': degree}, {'degree': degree},  seed=5)\n",
    "    rmse_tr.append(rmse_tr_)\n",
    "    rmse_te.append(rmse_te_)\n",
    "cross_validation_visualization(lambdas, rmse_tr, rmse_te)"
   ]
  },
  {
   "cell_type": "code",
   "execution_count": null,
   "metadata": {
    "collapsed": true
   },
   "outputs": [],
   "source": [
    "print(np.min(rmse_te))\n",
    "print(lambdas[np.argmin(rmse_te)])"
   ]
  },
  {
   "cell_type": "markdown",
   "metadata": {},
   "source": [
    "# tuning the model: group2"
   ]
  },
  {
   "cell_type": "code",
   "execution_count": null,
   "metadata": {
    "collapsed": true
   },
   "outputs": [],
   "source": [
    "lambdas = np.logspace(-10,0,30)\n",
    "x_jet, y_jet = x_y_for_jet(x,y, 1, True)\n",
    "rmse_tr = []\n",
    "rmse_te = []\n",
    "for lambda_ in lambdas:\n",
    "    rmse_tr_, rmse_te_ = cross_validation(y_jet, x_jet, 10, ridge_regression, accuracy, {'lambda_': lambda_}, seed=5)\n",
    "    rmse_tr.append(rmse_tr_)\n",
    "    rmse_te.append(rmse_te_)\n",
    "cross_validation_visualization(lambdas, rmse_tr, rmse_te)"
   ]
  },
  {
   "cell_type": "markdown",
   "metadata": {},
   "source": [
    "version with polynomially enhanced input."
   ]
  },
  {
   "cell_type": "code",
   "execution_count": null,
   "metadata": {
    "collapsed": true
   },
   "outputs": [],
   "source": [
    "lambdas = np.logspace(-10,0,10)\n",
    "x_jet, y_jet = x_y_for_jet(x,y, 1, True)\n",
    "rmse_tr = []\n",
    "rmse_te = []\n",
    "degree = 6\n",
    "for lambda_ in lambdas:\n",
    "    rmse_tr_, rmse_te_ = cross_validation(y_jet, x_jet, 10, ridge_regression_with_poly, accuracy_with_poly, {'lambda_': lambda_, 'degree': degree}, {'degree': degree},  seed=5)\n",
    "    rmse_tr.append(rmse_tr_)\n",
    "    rmse_te.append(rmse_te_)\n",
    "cross_validation_visualization(lambdas, rmse_tr, rmse_te)"
   ]
  },
  {
   "cell_type": "code",
   "execution_count": null,
   "metadata": {
    "collapsed": true
   },
   "outputs": [],
   "source": [
    "print(np.min(rmse_te))\n",
    "print(lambdas[np.argmin(rmse_te)])"
   ]
  },
  {
   "cell_type": "markdown",
   "metadata": {},
   "source": [
    "# tuning the model: group3"
   ]
  },
  {
   "cell_type": "code",
   "execution_count": null,
   "metadata": {
    "collapsed": true
   },
   "outputs": [],
   "source": [
    "lambdas = np.logspace(-10,0,30)\n",
    "x_jet, y_jet = x_y_for_jet(x,y, 1, False)\n",
    "rmse_tr = []\n",
    "rmse_te = []\n",
    "for lambda_ in lambdas:\n",
    "    rmse_tr_, rmse_te_ = cross_validation(y_jet, x_jet, 10, ridge_regression, accuracy, {'lambda_': lambda_}, seed=5)\n",
    "    rmse_tr.append(rmse_tr_)\n",
    "    rmse_te.append(rmse_te_)\n",
    "cross_validation_visualization(lambdas, rmse_tr, rmse_te)"
   ]
  },
  {
   "cell_type": "markdown",
   "metadata": {},
   "source": [
    "version with polynomially enhanced input."
   ]
  },
  {
   "cell_type": "code",
   "execution_count": null,
   "metadata": {
    "collapsed": true
   },
   "outputs": [],
   "source": [
    "lambdas = np.logspace(-10,0,10)\n",
    "x_jet, y_jet = x_y_for_jet(x,y, 1, False)\n",
    "rmse_tr = []\n",
    "rmse_te = []\n",
    "degree = 5\n",
    "for lambda_ in lambdas:\n",
    "    rmse_tr_, rmse_te_ = cross_validation(y_jet, x_jet, 10, ridge_regression_with_poly, accuracy_with_poly, {'lambda_': lambda_, 'degree': degree}, {'degree': degree},  seed=5)\n",
    "    rmse_tr.append(rmse_tr_)\n",
    "    rmse_te.append(rmse_te_)\n",
    "cross_validation_visualization(lambdas, rmse_tr, rmse_te)"
   ]
  },
  {
   "cell_type": "code",
   "execution_count": null,
   "metadata": {
    "collapsed": true
   },
   "outputs": [],
   "source": [
    "print(np.min(rmse_te))\n",
    "print(lambdas[np.argmin(rmse_te)])"
   ]
  },
  {
   "cell_type": "markdown",
   "metadata": {},
   "source": [
    "# tuning the model: group4"
   ]
  },
  {
   "cell_type": "code",
   "execution_count": null,
   "metadata": {
    "collapsed": true
   },
   "outputs": [],
   "source": [
    "lambdas = np.logspace(-10,0,30)\n",
    "x_jet, y_jet = x_y_for_jet(x,y, 2, True)\n",
    "rmse_tr = []\n",
    "rmse_te = []\n",
    "for lambda_ in lambdas:\n",
    "    rmse_tr_, rmse_te_ = cross_validation(y_jet, x_jet, 10, ridge_regression, accuracy, {'lambda_': lambda_}, seed=5)\n",
    "    rmse_tr.append(rmse_tr_)\n",
    "    rmse_te.append(rmse_te_)\n",
    "cross_validation_visualization(lambdas, rmse_tr, rmse_te)"
   ]
  },
  {
   "cell_type": "markdown",
   "metadata": {},
   "source": [
    "version with polynomially enhanced input."
   ]
  },
  {
   "cell_type": "code",
   "execution_count": null,
   "metadata": {
    "collapsed": true
   },
   "outputs": [],
   "source": [
    "lambdas = np.logspace(-10,0,10)\n",
    "x_jet, y_jet = x_y_for_jet(x,y, 2, True)\n",
    "rmse_tr = []\n",
    "rmse_te = []\n",
    "degree = 7\n",
    "for lambda_ in lambdas:\n",
    "    rmse_tr_, rmse_te_ = cross_validation(y_jet, x_jet, 10, ridge_regression_with_poly, accuracy_with_poly, {'lambda_': lambda_, 'degree': degree}, {'degree': degree},  seed=5)\n",
    "    rmse_tr.append(rmse_tr_)\n",
    "    rmse_te.append(rmse_te_)\n",
    "cross_validation_visualization(lambdas, rmse_tr, rmse_te)"
   ]
  },
  {
   "cell_type": "code",
   "execution_count": null,
   "metadata": {
    "collapsed": true
   },
   "outputs": [],
   "source": [
    "print(np.min(rmse_te))\n",
    "print(lambdas[np.argmin(rmse_te)])"
   ]
  },
  {
   "cell_type": "markdown",
   "metadata": {},
   "source": [
    "# tuning the model: group5"
   ]
  },
  {
   "cell_type": "code",
   "execution_count": null,
   "metadata": {
    "collapsed": true
   },
   "outputs": [],
   "source": [
    "lambdas = np.logspace(-10,0,30)\n",
    "x_jet, y_jet = x_y_for_jet(x,y, 2, False)\n",
    "rmse_tr = []\n",
    "rmse_te = []\n",
    "for lambda_ in lambdas:\n",
    "    rmse_tr_, rmse_te_ = cross_validation(y_jet, x_jet, 10, ridge_regression, accuracy, {'lambda_': lambda_}, seed=5)\n",
    "    rmse_tr.append(rmse_tr_)\n",
    "    rmse_te.append(rmse_te_)\n",
    "cross_validation_visualization(lambdas, rmse_tr, rmse_te)"
   ]
  },
  {
   "cell_type": "markdown",
   "metadata": {},
   "source": [
    "version with polynomially enhanced input."
   ]
  },
  {
   "cell_type": "code",
   "execution_count": null,
   "metadata": {
    "collapsed": true
   },
   "outputs": [],
   "source": [
    "lambdas = np.logspace(-10,0,10)\n",
    "x_jet, y_jet = x_y_for_jet(x,y, 2, False)\n",
    "rmse_tr = []\n",
    "rmse_te = []\n",
    "degree = 3\n",
    "for lambda_ in lambdas:\n",
    "    rmse_tr_, rmse_te_ = cross_validation(y_jet, x_jet, 10, ridge_regression_with_poly, accuracy_with_poly, {'lambda_': lambda_, 'degree': degree}, {'degree': degree},  seed=5)\n",
    "    rmse_tr.append(rmse_tr_)\n",
    "    rmse_te.append(rmse_te_)\n",
    "cross_validation_visualization(lambdas, rmse_tr, rmse_te)"
   ]
  },
  {
   "cell_type": "code",
   "execution_count": null,
   "metadata": {
    "collapsed": true
   },
   "outputs": [],
   "source": [
    "print(np.min(rmse_te))\n",
    "print(lambdas[np.argmin(rmse_te)])"
   ]
  },
  {
   "cell_type": "markdown",
   "metadata": {},
   "source": [
    "# tuning the whole model"
   ]
  },
  {
   "cell_type": "code",
   "execution_count": null,
   "metadata": {
    "collapsed": true
   },
   "outputs": [],
   "source": [
    "lambdas = np.logspace(-5,0,10)\n",
    "degree = 6\n",
    "for n in range(3):\n",
    "    for mass in [True, False]:\n",
    "        x_jet, y_jet = x_y_for_jet(x, y, n, mass)\n",
    "        plt.figure(n*2+int(mass))\n",
    "        rmse_tr = []\n",
    "        rmse_te = []\n",
    "        for lambda_ in lambdas:\n",
    "            rmse_tr_, rmse_te_ = cross_validation(y_jet, x_jet, 10, ridge_regression, compute_mse, {'lambda_': lambda_}, seed=5)\n",
    "            rmse_tr.append(rmse_tr_)\n",
    "            rmse_te.append(rmse_te_)\n",
    "        cross_validation_visualization(lambdas, rmse_tr, rmse_te)\n",
    "        plt.plot()\n",
    "        i += 1"
   ]
  },
  {
   "cell_type": "markdown",
   "metadata": {},
   "source": [
    "# applying feature transformation"
   ]
  },
  {
   "cell_type": "markdown",
   "metadata": {},
   "source": [
    "This is the function we used to standardize exponential features."
   ]
  },
  {
   "cell_type": "code",
   "execution_count": 1,
   "metadata": {},
   "outputs": [
    {
     "ename": "NameError",
     "evalue": "name 'labels' is not defined",
     "output_type": "error",
     "traceback": [
      "\u001b[0;31m---------------------------------------------------------------------------\u001b[0m",
      "\u001b[0;31mNameError\u001b[0m                                 Traceback (most recent call last)",
      "\u001b[0;32m<ipython-input-1-e75afccd9231>\u001b[0m in \u001b[0;36m<module>\u001b[0;34m()\u001b[0m\n\u001b[1;32m      3\u001b[0m         \u001b[0;32mreturn\u001b[0m \u001b[0mnp\u001b[0m\u001b[0;34m.\u001b[0m\u001b[0mlog\u001b[0m\u001b[0;34m(\u001b[0m\u001b[0mx\u001b[0m\u001b[0;34m)\u001b[0m\u001b[0;34m\u001b[0m\u001b[0m\n\u001b[1;32m      4\u001b[0m     \u001b[0;32mreturn\u001b[0m \u001b[0mx\u001b[0m\u001b[0;34m\u001b[0m\u001b[0m\n\u001b[0;32m----> 5\u001b[0;31m \u001b[0mnormalize\u001b[0m \u001b[0;34m=\u001b[0m \u001b[0;34m[\u001b[0m\u001b[0midx\u001b[0m \u001b[0;32mfor\u001b[0m \u001b[0midx\u001b[0m\u001b[0;34m,\u001b[0m \u001b[0mlabel\u001b[0m \u001b[0;32min\u001b[0m \u001b[0menumerate\u001b[0m\u001b[0;34m(\u001b[0m\u001b[0mlabels\u001b[0m\u001b[0;34m)\u001b[0m \u001b[0;32mif\u001b[0m \u001b[0mlabel\u001b[0m \u001b[0;32min\u001b[0m \u001b[0;34m[\u001b[0m\u001b[0;34m'DER_mass_vis'\u001b[0m\u001b[0;34m,\u001b[0m \u001b[0;34m'PRI_tau_pt'\u001b[0m\u001b[0;34m,\u001b[0m \u001b[0;34m'PRI_lep_pt'\u001b[0m\u001b[0;34m,\u001b[0m                                                                  \u001b[0;34m'PRI_met'\u001b[0m\u001b[0;34m,\u001b[0m \u001b[0;34m'PRI_jet_subleading_pt'\u001b[0m\u001b[0;34m,\u001b[0m \u001b[0;34m'DER_mass_MMC'\u001b[0m\u001b[0;34m,\u001b[0m                                                                  \u001b[0;34m'DER_mass_vis'\u001b[0m\u001b[0;34m,\u001b[0m \u001b[0;34m'DER_pt_tot'\u001b[0m\u001b[0;34m,\u001b[0m \u001b[0;34m'DER_sum_pt'\u001b[0m\u001b[0;34m,\u001b[0m                                                                  \u001b[0;34m'DER_pt_ratio_lep_tau'\u001b[0m\u001b[0;34m,\u001b[0m \u001b[0;34m'PRI_met_sumet'\u001b[0m\u001b[0;34m,\u001b[0m                                                                  \u001b[0;34m'PRI_jet_leading_pt'\u001b[0m\u001b[0;34m]\u001b[0m\u001b[0;34m]\u001b[0m\u001b[0;34m\u001b[0m\u001b[0m\n\u001b[0m",
      "\u001b[0;31mNameError\u001b[0m: name 'labels' is not defined"
     ]
    }
   ],
   "source": [
    "def log_normalize(x):\n",
    "    if x > 0:\n",
    "        return np.log(x)\n",
    "    return x\n",
    "normalize = [idx for idx, label in enumerate(labels) if label in ['DER_mass_vis', 'PRI_tau_pt', 'PRI_lep_pt',\\\n",
    "                                                                  'PRI_met', 'PRI_jet_subleading_pt', 'DER_mass_MMC',\\\n",
    "                                                                  'DER_mass_vis', 'DER_pt_tot', 'DER_sum_pt',\\\n",
    "                                                                  'DER_pt_ratio_lep_tau', 'PRI_met_sumet',\\\n",
    "                                                                  'PRI_jet_leading_pt']]"
   ]
  }
 ],
 "metadata": {
  "kernelspec": {
   "display_name": "Python [default]",
   "language": "python",
   "name": "python3"
  },
  "language_info": {
   "codemirror_mode": {
    "name": "ipython",
    "version": 3
   },
   "file_extension": ".py",
   "mimetype": "text/x-python",
   "name": "python",
   "nbconvert_exporter": "python",
   "pygments_lexer": "ipython3",
   "version": "3.5.3"
  }
 },
 "nbformat": 4,
 "nbformat_minor": 2
}
